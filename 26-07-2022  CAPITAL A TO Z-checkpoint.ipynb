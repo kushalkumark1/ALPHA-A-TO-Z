{
 "cells": [
  {
   "cell_type": "code",
   "execution_count": 2,
   "id": "6fc18043",
   "metadata": {},
   "outputs": [
    {
     "name": "stdout",
     "output_type": "stream",
     "text": [
      "* * *\n",
      "*   *\n",
      "* * *\n",
      "*   *\n"
     ]
    }
   ],
   "source": [
    "x=0\n",
    "while x<4:\n",
    "    if x==0:\n",
    "        print(\"* * *\")\n",
    "    elif x==1:\n",
    "        print(\"*   *\")\n",
    "    elif x==2:\n",
    "        print(\"* * *\")\n",
    "    else:\n",
    "        print(\"*   *\")\n",
    "    x=x+1"
   ]
  },
  {
   "cell_type": "code",
   "execution_count": 8,
   "id": "5f59cd13",
   "metadata": {},
   "outputs": [
    {
     "name": "stdout",
     "output_type": "stream",
     "text": [
      "* * *\n",
      "*   *\n",
      "* * *\n",
      "*   *\n",
      "* * *\n"
     ]
    }
   ],
   "source": [
    "x=0\n",
    "while x<5:\n",
    "    if x==0:\n",
    "        print(\"* * *\")\n",
    "    elif x==1:\n",
    "        print(\"*   *\")\n",
    "    elif x==2:\n",
    "        print(\"* * *\")\n",
    "    elif x==3:\n",
    "        print(\"*   *\")\n",
    "    else:\n",
    "        print(\"* * *\")\n",
    "        \n",
    "    x=x+1"
   ]
  },
  {
   "cell_type": "code",
   "execution_count": 10,
   "id": "b0ff08aa",
   "metadata": {},
   "outputs": [
    {
     "name": "stdout",
     "output_type": "stream",
     "text": [
      "********\n",
      "*       \n",
      "*       \n",
      "********\n"
     ]
    }
   ],
   "source": [
    "x=0\n",
    "while x<4:\n",
    "    if x==0:\n",
    "        print(\"********\")\n",
    "    elif x==1:\n",
    "        print(\"*       \")\n",
    "    elif x==2:\n",
    "        print(\"*       \")\n",
    "    else:\n",
    "        print(\"********\")\n",
    "    x=x+1"
   ]
  },
  {
   "cell_type": "code",
   "execution_count": 14,
   "id": "eda6b4d8",
   "metadata": {},
   "outputs": [
    {
     "name": "stdout",
     "output_type": "stream",
     "text": [
      "******  \n",
      "*      *\n",
      "*      *\n",
      "******  \n"
     ]
    }
   ],
   "source": [
    "x=0\n",
    "while x<4:\n",
    "    if x==0:\n",
    "        print(\"******  \")\n",
    "    elif x==1:\n",
    "        print(\"*      *\")\n",
    "    elif x==2:\n",
    "        print(\"*      *\")\n",
    "    else:\n",
    "        print(\"******  \")\n",
    "    x=x+1"
   ]
  },
  {
   "cell_type": "code",
   "execution_count": 18,
   "id": "267fe1e8",
   "metadata": {},
   "outputs": [
    {
     "name": "stdout",
     "output_type": "stream",
     "text": [
      "*******\n",
      "*   \n",
      "*******\n",
      "*   \n",
      "*******\n"
     ]
    }
   ],
   "source": [
    "x=0\n",
    "while x<5:\n",
    "    if x==0:\n",
    "        print(\"*******\")\n",
    "    elif x==1:\n",
    "        print(\"*   \")\n",
    "    elif x==2:\n",
    "        print(\"*******\")\n",
    "    elif x==3:\n",
    "        print(\"*   \")\n",
    "    else:\n",
    "        print(\"*******\")\n",
    "    x=x+1"
   ]
  },
  {
   "cell_type": "code",
   "execution_count": 19,
   "id": "15980ffa",
   "metadata": {},
   "outputs": [
    {
     "name": "stdout",
     "output_type": "stream",
     "text": [
      "*******\n",
      "*   \n",
      "*******\n",
      "*   \n",
      "*     \n"
     ]
    }
   ],
   "source": [
    "x=0\n",
    "while x<5:\n",
    "    if x==0:\n",
    "        print(\"*******\")\n",
    "    elif x==1:\n",
    "        print(\"*   \")\n",
    "    elif x==2:\n",
    "        print(\"*******\")\n",
    "    elif x==3:\n",
    "        print(\"*   \")\n",
    "    else:\n",
    "        print(\"*     \")\n",
    "    x=x+1"
   ]
  },
  {
   "cell_type": "code",
   "execution_count": 3,
   "id": "ebb90df9",
   "metadata": {},
   "outputs": [
    {
     "name": "stdout",
     "output_type": "stream",
     "text": [
      "*********\n",
      "*       \n",
      "*   *****\n",
      "*     ***\n",
      "*********\n"
     ]
    }
   ],
   "source": [
    "x=0\n",
    "while x<5:\n",
    "    if x==0:\n",
    "        print(\"*********\")\n",
    "    elif x==1:\n",
    "        print(\"*       \")\n",
    "    elif x==2:\n",
    "        print(\"*   *****\")\n",
    "    elif x==3:\n",
    "        print(\"*     ***\")\n",
    "    else:\n",
    "        print(\"*********\")\n",
    "    x=x+1"
   ]
  },
  {
   "cell_type": "code",
   "execution_count": 1,
   "id": "ef7e8374",
   "metadata": {},
   "outputs": [
    {
     "name": "stdout",
     "output_type": "stream",
     "text": [
      "***   ***\n",
      "***   ***\n",
      "*********\n",
      "***   ***\n",
      "***   ***\n"
     ]
    }
   ],
   "source": [
    "x=0\n",
    "while x<5:\n",
    "    if x==0:\n",
    "        print(\"***   ***\")\n",
    "    elif x==1:\n",
    "        print(\"***   ***\")\n",
    "    elif x==2:\n",
    "        print(\"*********\")\n",
    "    elif x==3:\n",
    "        print(\"***   ***\")\n",
    "    else:\n",
    "        print(\"***   ***\")\n",
    "    x=x+1"
   ]
  },
  {
   "cell_type": "code",
   "execution_count": 2,
   "id": "4ea887a5",
   "metadata": {},
   "outputs": [
    {
     "name": "stdout",
     "output_type": "stream",
     "text": [
      "*********\n",
      "     *   \n",
      "     *   \n",
      "     *   \n",
      "*********\n"
     ]
    }
   ],
   "source": [
    "x=0\n",
    "while x<5:\n",
    "    if x==0:\n",
    "        print(\"*********\")\n",
    "    elif x==1:\n",
    "        print(\"     *   \")\n",
    "    elif x==2:\n",
    "        print(\"     *   \")\n",
    "    elif x==3:\n",
    "        print(\"     *   \")\n",
    "    else:\n",
    "        print(\"*********\")\n",
    "    x=x+1"
   ]
  },
  {
   "cell_type": "code",
   "execution_count": 1,
   "id": "9e4492a5",
   "metadata": {},
   "outputs": [
    {
     "name": "stdout",
     "output_type": "stream",
     "text": [
      "**********\n",
      "       ***\n",
      "       ***\n",
      "***    ***\n",
      "**********\n"
     ]
    }
   ],
   "source": [
    "x=0\n",
    "while x<5:\n",
    "    if x==0:\n",
    "        print(\"**********\")\n",
    "    elif x==1:\n",
    "        print(\"       ***\")\n",
    "    elif x==2:\n",
    "        print(\"       ***\")\n",
    "    elif x==3:\n",
    "        print(\"***    ***\")\n",
    "    else:\n",
    "        print(\"**********\")\n",
    "    x=x+1"
   ]
  },
  {
   "cell_type": "code",
   "execution_count": 6,
   "id": "987a6d20",
   "metadata": {},
   "outputs": [
    {
     "name": "stdout",
     "output_type": "stream",
     "text": [
      "****     *****\n",
      "***     ***\n",
      "********\n",
      "***     ***\n",
      "****     *****\n"
     ]
    }
   ],
   "source": [
    "x=0\n",
    "while x<5:\n",
    "    if x==0:\n",
    "        print(\"****     *****\")\n",
    "    elif x==1:\n",
    "        print(\"***     ***\")\n",
    "    elif x==2:\n",
    "        print(\"********\")\n",
    "    elif x==3:\n",
    "        print(\"***     ***\")\n",
    "    else:\n",
    "        print(\"****     *****\")\n",
    "    x=x+1"
   ]
  },
  {
   "cell_type": "code",
   "execution_count": 8,
   "id": "8fb228dc",
   "metadata": {},
   "outputs": [
    {
     "name": "stdout",
     "output_type": "stream",
     "text": [
      "***\n",
      "***\n",
      "***\n",
      "***\n",
      "*****************\n",
      "*****************\n"
     ]
    }
   ],
   "source": [
    "x=0\n",
    "while x<6:\n",
    "    if x==0:\n",
    "        print(\"***\")\n",
    "    elif x==1:\n",
    "        print(\"***\")\n",
    "    elif x==2:\n",
    "        print(\"***\")\n",
    "    elif x==3:\n",
    "        print(\"***\")\n",
    "    elif x==4:\n",
    "        print(\"*****************\")\n",
    "    else:\n",
    "        print(\"*****************\")\n",
    "    x=x+1"
   ]
  },
  {
   "cell_type": "code",
   "execution_count": 5,
   "id": "d79d0baf",
   "metadata": {},
   "outputs": [
    {
     "name": "stdout",
     "output_type": "stream",
     "text": [
      "****         *****\n",
      "***   **  **  ***\n",
      "***   ** **   ***\n",
      "***    ***    ***\n",
      "***     **    ****\n"
     ]
    }
   ],
   "source": [
    "x=0\n",
    "while x<5:\n",
    "    if x==0:\n",
    "        print(\"****         *****\")\n",
    "    elif x==1:\n",
    "        print(\"***   **  **  ***\")\n",
    "    elif x==2:\n",
    "        print(\"***   ** **   ***\")\n",
    "    elif x==3:\n",
    "        print(\"***    ***    ***\")\n",
    "    else:\n",
    "        print(\"***     **    ****\")\n",
    "    x=x+1"
   ]
  },
  {
   "cell_type": "code",
   "execution_count": 6,
   "id": "2aa84f19",
   "metadata": {},
   "outputs": [
    {
     "name": "stdout",
     "output_type": "stream",
     "text": [
      "****          ****\n",
      "***  **       ****\n",
      "***     ***   ****\n",
      "***       *** ****\n",
      "***         ** ***\n"
     ]
    }
   ],
   "source": [
    "x=0\n",
    "while x<5:\n",
    "    if x==0:\n",
    "        print(\"****          ****\")\n",
    "    elif x==1:\n",
    "        print(\"***  **       ****\")\n",
    "    elif x==2:\n",
    "        print(\"***     ***   ****\")\n",
    "    elif x==3:\n",
    "        print(\"***       *** ****\")\n",
    "    else:\n",
    "        print(\"***         ** ***\")\n",
    "    x=x+1"
   ]
  },
  {
   "cell_type": "code",
   "execution_count": 10,
   "id": "cc203797",
   "metadata": {},
   "outputs": [
    {
     "name": "stdout",
     "output_type": "stream",
     "text": [
      "  ********  \n",
      "**         **\n",
      "**         **\n",
      "**         **\n",
      "  ********  \n"
     ]
    }
   ],
   "source": [
    "x=0\n",
    "while x<5:\n",
    "    if x==0:\n",
    "        print(\"  ********  \")\n",
    "    elif x==1:\n",
    "        print(\"**         **\")\n",
    "    elif x==2:\n",
    "        print(\"**         **\")\n",
    "    elif x==3:\n",
    "        print(\"**         **\")\n",
    "    else:\n",
    "        print(\"  ********  \")\n",
    "    x=x+1"
   ]
  },
  {
   "cell_type": "code",
   "execution_count": 1,
   "id": "af0b2d20",
   "metadata": {},
   "outputs": [
    {
     "name": "stdout",
     "output_type": "stream",
     "text": [
      "********** \n",
      "**   ***** \n",
      "**  **     \n",
      "**         \n"
     ]
    }
   ],
   "source": [
    "x=0\n",
    "while x<4:\n",
    "    if x==0:\n",
    "        print(\"********** \")\n",
    "    elif x==1:\n",
    "        print(\"**   ***** \")\n",
    "    elif x==2:\n",
    "        print(\"**  **     \")\n",
    "    else:\n",
    "        print(\"**         \")\n",
    "    x=x+1"
   ]
  },
  {
   "cell_type": "code",
   "execution_count": 16,
   "id": "ddb8aea9",
   "metadata": {},
   "outputs": [
    {
     "name": "stdout",
     "output_type": "stream",
     "text": [
      " ******** \n",
      "**   **  **\n",
      "**    **  **\n",
      "**      * **\n",
      " ********  \n",
      "          **\n"
     ]
    }
   ],
   "source": [
    "x=0\n",
    "while x<6:\n",
    "    if x==0:\n",
    "        print(\" ******** \")\n",
    "    elif x==1:\n",
    "        print(\"**   **  **\")\n",
    "    elif x==2:\n",
    "        print(\"**    **  **\")\n",
    "    elif x==3:\n",
    "        print(\"**      * **\")\n",
    "    elif x==4:\n",
    "        print(\" ********  \")\n",
    "    else:\n",
    "        print(\"          **\")\n",
    "    x=x+1\n",
    "        "
   ]
  },
  {
   "cell_type": "code",
   "execution_count": 37,
   "id": "43f6b810",
   "metadata": {},
   "outputs": [
    {
     "name": "stdout",
     "output_type": "stream",
     "text": [
      "**********\n",
      "**     ***\n",
      "**********\n",
      "**     ****\n",
      "**      ******\n"
     ]
    }
   ],
   "source": [
    "x=0\n",
    "while x<5:\n",
    "    if x==0:\n",
    "        print(\"**********\")\n",
    "    elif x==1:\n",
    "        print(\"**     ***\")\n",
    "    elif x==2:\n",
    "        print(\"**********\")\n",
    "    elif x==3:\n",
    "        print(\"**     ****\")\n",
    "    else:\n",
    "        print(\"**      ******\")\n",
    "    x=x+1"
   ]
  },
  {
   "cell_type": "code",
   "execution_count": 21,
   "id": "f0669b5a",
   "metadata": {},
   "outputs": [
    {
     "name": "stdout",
     "output_type": "stream",
     "text": [
      "***********\n",
      "****        \n",
      "     ***\n",
      "        ****   \n",
      "************** \n"
     ]
    }
   ],
   "source": [
    "x=0\n",
    "while x<5:\n",
    "    if x==0:\n",
    "        print(\"***********\")\n",
    "    elif x==1:\n",
    "        print(\"****        \")\n",
    "    elif x==2:\n",
    "        print(\"     ***\")\n",
    "    elif x==3:\n",
    "        print(\"        ****   \")\n",
    "    else:\n",
    "        print(\"************** \")\n",
    "    x=x+1"
   ]
  },
  {
   "cell_type": "code",
   "execution_count": 22,
   "id": "09155bf3",
   "metadata": {},
   "outputs": [
    {
     "name": "stdout",
     "output_type": "stream",
     "text": [
      "*******\n",
      "   *    \n",
      "   *    \n",
      "   *    \n",
      "   *     \n"
     ]
    }
   ],
   "source": [
    "x=0\n",
    "while x<5:\n",
    "    if x==0:\n",
    "        print(\"*******\")\n",
    "    elif x==1:\n",
    "        print(\"   *    \")\n",
    "    elif x==2:\n",
    "        print(\"   *    \")\n",
    "    elif x==3:\n",
    "        print(\"   *    \")\n",
    "    else:\n",
    "        print(\"   *     \")\n",
    "    x=x+1"
   ]
  },
  {
   "cell_type": "code",
   "execution_count": 23,
   "id": "b7441a08",
   "metadata": {},
   "outputs": [
    {
     "name": "stdout",
     "output_type": "stream",
     "text": [
      "**      **\n",
      "**      **\n",
      "**      **\n",
      "**      **\n",
      "**********\n"
     ]
    }
   ],
   "source": [
    "x=0\n",
    "while x<5:\n",
    "    if x==0:\n",
    "        print(\"**      **\")\n",
    "    elif x==1:\n",
    "        print(\"**      **\")\n",
    "    elif x==2:\n",
    "        print(\"**      **\")\n",
    "    elif x==3:\n",
    "        print(\"**      **\")\n",
    "    else:\n",
    "        print(\"**********\")\n",
    "    x=x+1"
   ]
  },
  {
   "cell_type": "code",
   "execution_count": 27,
   "id": "13123917",
   "metadata": {},
   "outputs": [
    {
     "name": "stdout",
     "output_type": "stream",
     "text": [
      "**      **\n",
      "**      **\n",
      "**      **\n",
      "**      **\n",
      "    **  \n"
     ]
    }
   ],
   "source": [
    "x=0\n",
    "while x<5:\n",
    "    if x==0:\n",
    "        print(\"**      **\")\n",
    "    elif x==1:\n",
    "        print(\"**      **\")\n",
    "    elif x==2:\n",
    "        print(\"**      **\")\n",
    "    elif x==3:\n",
    "        print(\"**      **\")\n",
    "    else:\n",
    "        print(\"    **  \")\n",
    "    x=x+1"
   ]
  },
  {
   "cell_type": "code",
   "execution_count": 29,
   "id": "a1ac345a",
   "metadata": {},
   "outputs": [
    {
     "name": "stdout",
     "output_type": "stream",
     "text": [
      "**     *     **\n",
      "**    * *    **\n",
      "**    ***    **\n",
      "**   ** **   **\n",
      "**  *******  **\n"
     ]
    }
   ],
   "source": [
    "x=0\n",
    "while x<5:\n",
    "    if x==0:\n",
    "        print(\"**     *     **\")\n",
    "    elif x==1:\n",
    "        print(\"**    * *    **\")\n",
    "    elif x==2:\n",
    "        print(\"**    ***    **\")\n",
    "    elif x==3:\n",
    "        print(\"**   ** **   **\")\n",
    "    else:\n",
    "        print(\"**  *******  **\")\n",
    "    x=x+1"
   ]
  },
  {
   "cell_type": "code",
   "execution_count": 31,
   "id": "e676aef5",
   "metadata": {},
   "outputs": [
    {
     "name": "stdout",
     "output_type": "stream",
     "text": [
      "*           *\n",
      "   *      *\n",
      "      *   \n",
      "   *      *\n",
      "*            *\n"
     ]
    }
   ],
   "source": [
    "x=0\n",
    "while x<5:\n",
    "    if x==0:\n",
    "        print(\"*           *\")\n",
    "    elif x==1: \n",
    "        print(\"   *      *\")\n",
    "    elif x==2:\n",
    "        print(\"      *   \")\n",
    "    elif x==3:\n",
    "        print(\"   *      *\")\n",
    "    else:\n",
    "        print(\"*            *\")\n",
    "    x=x+1"
   ]
  },
  {
   "cell_type": "code",
   "execution_count": 32,
   "id": "24131fe0",
   "metadata": {},
   "outputs": [
    {
     "name": "stdout",
     "output_type": "stream",
     "text": [
      "*           *\n",
      "   *      *\n",
      "      *   \n",
      "   *      \n",
      "*            \n"
     ]
    }
   ],
   "source": [
    "x=0\n",
    "while x<5:\n",
    "    if x==0:\n",
    "        print(\"*           *\")\n",
    "    elif x==1: \n",
    "        print(\"   *      *\")\n",
    "    elif x==2:\n",
    "        print(\"      *   \")\n",
    "    elif x==3:\n",
    "        print(\"   *      \")\n",
    "    else:\n",
    "        print(\"*            \")\n",
    "    x=x+1"
   ]
  },
  {
   "cell_type": "code",
   "execution_count": 33,
   "id": "614a0180",
   "metadata": {},
   "outputs": [
    {
     "name": "stdout",
     "output_type": "stream",
     "text": [
      "**************\n",
      "        ****\n",
      "      ***** \n",
      "   ******      \n",
      "***************            \n"
     ]
    }
   ],
   "source": [
    "x=0\n",
    "while x<5:\n",
    "    if x==0:\n",
    "        print(\"**************\")\n",
    "    elif x==1: \n",
    "        print(\"        ****\")\n",
    "    elif x==2:\n",
    "        print(\"      ***** \")\n",
    "    elif x==3:\n",
    "        print(\"   ******      \")\n",
    "    else:\n",
    "        print(\"***************            \")\n",
    "    x=x+1"
   ]
  },
  {
   "cell_type": "code",
   "execution_count": 1,
   "id": "911af22f",
   "metadata": {},
   "outputs": [
    {
     "name": "stdout",
     "output_type": "stream",
     "text": [
      "*******\n",
      "***\n",
      "*******\n"
     ]
    }
   ],
   "source": [
    "x=0\n",
    "while x<3:\n",
    "    \n",
    "    if x==0:\n",
    "        print(\"*******\")\n",
    "    elif x==1:\n",
    "        print(\"***\")\n",
    "    else:\n",
    "        print(\"*******\")\n",
    "    x=x+1"
   ]
  },
  {
   "cell_type": "code",
   "execution_count": null,
   "id": "45fffd39",
   "metadata": {},
   "outputs": [],
   "source": []
  }
 ],
 "metadata": {
  "kernelspec": {
   "display_name": "Python 3 (ipykernel)",
   "language": "python",
   "name": "python3"
  },
  "language_info": {
   "codemirror_mode": {
    "name": "ipython",
    "version": 3
   },
   "file_extension": ".py",
   "mimetype": "text/x-python",
   "name": "python",
   "nbconvert_exporter": "python",
   "pygments_lexer": "ipython3",
   "version": "3.9.12"
  }
 },
 "nbformat": 4,
 "nbformat_minor": 5
}
